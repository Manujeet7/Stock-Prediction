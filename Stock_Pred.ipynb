{
  "nbformat": 4,
  "nbformat_minor": 0,
  "metadata": {
    "colab": {
      "name": "Stock_Pred.ipynb",
      "version": "0.3.2",
      "provenance": []
    },
    "kernelspec": {
      "name": "python3",
      "display_name": "Python 3"
    }
  },
  "cells": [
    {
      "cell_type": "code",
      "metadata": {
        "id": "gXeyfWU8psfm",
        "colab_type": "code",
        "outputId": "bcdf3a5e-c532-4d38-c8af-ffa46add24b0",
        "colab": {
          "base_uri": "https://localhost:8080/",
          "height": 377
        }
      },
      "source": [
        "import numpy as np \n",
        "import pandas as pd \n",
        "import matplotlib.pyplot as plt \n",
        "\n",
        "from pandas_datareader import data as pdr \n",
        "import fix_yahoo_finance as yf \n",
        "\n",
        "!pip install yfinance --upgrade --no-cache-dir\n",
        "yf.pdr_override()\n",
        "\n",
        "from google.colab import drive\n",
        "\n",
        "from sklearn.linear_model import LinearRegression, Ridge, Lasso\n",
        "from sklearn import preprocessing\n",
        "from sklearn.model_selection import train_test_split \n",
        "from sklearn.ensemble import GradientBoostingRegressor\n",
        "\n",
        "from sklearn import metrics"
      ],
      "execution_count": 0,
      "outputs": [
        {
          "output_type": "stream",
          "text": [
            "Collecting yfinance\n",
            "  Downloading https://files.pythonhosted.org/packages/53/0e/40387099824c98be22cd7e33a620e9d38b61998b031f0b33f0b9959717d2/yfinance-0.1.45.tar.gz\n",
            "Requirement already satisfied, skipping upgrade: pandas>=0.24 in /usr/local/lib/python3.6/dist-packages (from yfinance) (0.24.2)\n",
            "Requirement already satisfied, skipping upgrade: numpy>=1.15 in /usr/local/lib/python3.6/dist-packages (from yfinance) (1.16.5)\n",
            "Requirement already satisfied, skipping upgrade: requests>=2.20 in /usr/local/lib/python3.6/dist-packages (from yfinance) (2.21.0)\n",
            "Requirement already satisfied, skipping upgrade: multitasking>=0.0.7 in /usr/local/lib/python3.6/dist-packages (from yfinance) (0.0.9)\n",
            "Requirement already satisfied, skipping upgrade: pytz>=2011k in /usr/local/lib/python3.6/dist-packages (from pandas>=0.24->yfinance) (2018.9)\n",
            "Requirement already satisfied, skipping upgrade: python-dateutil>=2.5.0 in /usr/local/lib/python3.6/dist-packages (from pandas>=0.24->yfinance) (2.5.3)\n",
            "Requirement already satisfied, skipping upgrade: chardet<3.1.0,>=3.0.2 in /usr/local/lib/python3.6/dist-packages (from requests>=2.20->yfinance) (3.0.4)\n",
            "Requirement already satisfied, skipping upgrade: certifi>=2017.4.17 in /usr/local/lib/python3.6/dist-packages (from requests>=2.20->yfinance) (2019.6.16)\n",
            "Requirement already satisfied, skipping upgrade: urllib3<1.25,>=1.21.1 in /usr/local/lib/python3.6/dist-packages (from requests>=2.20->yfinance) (1.24.3)\n",
            "Requirement already satisfied, skipping upgrade: idna<2.9,>=2.5 in /usr/local/lib/python3.6/dist-packages (from requests>=2.20->yfinance) (2.8)\n",
            "Requirement already satisfied, skipping upgrade: six>=1.5 in /usr/local/lib/python3.6/dist-packages (from python-dateutil>=2.5.0->pandas>=0.24->yfinance) (1.12.0)\n",
            "Building wheels for collected packages: yfinance\n",
            "  Building wheel for yfinance (setup.py) ... \u001b[?25l\u001b[?25hdone\n",
            "  Created wheel for yfinance: filename=yfinance-0.1.45-cp36-none-any.whl size=14652 sha256=379473bd41848b03929c8116f7d623194b1cb82697a01675b652a143cdbdfaa3\n",
            "  Stored in directory: /tmp/pip-ephem-wheel-cache-y5yrwil3/wheels/0c/d1/df/aa9a7744a4ac353cc9a1f2c3aaea7c1f457fc49de4286f2d88\n",
            "Successfully built yfinance\n",
            "Installing collected packages: yfinance\n",
            "Successfully installed yfinance-0.1.45\n"
          ],
          "name": "stdout"
        }
      ]
    },
    {
      "cell_type": "code",
      "metadata": {
        "id": "ON-CuIieqpOq",
        "colab_type": "code",
        "outputId": "36f37433-b6ec-4297-b19b-4ba87b0b2c0e",
        "colab": {
          "base_uri": "https://localhost:8080/",
          "height": 34
        }
      },
      "source": [
        "df_full = pdr.get_data_yahoo(\"AMZN\", start=\"2018-01-01\").reset_index()\n",
        "df_full.to_csv('AMZN.csv', index=False)"
      ],
      "execution_count": 0,
      "outputs": [
        {
          "output_type": "stream",
          "text": [
            "[*********************100%***********************]  1 of 1 downloaded\n"
          ],
          "name": "stdout"
        }
      ]
    },
    {
      "cell_type": "code",
      "metadata": {
        "id": "27ATmPNmquRP",
        "colab_type": "code",
        "outputId": "1ed53afa-1791-4719-9e67-7d1ed5f141e8",
        "colab": {
          "base_uri": "https://localhost:8080/",
          "height": 34
        }
      },
      "source": [
        "df_full.shape"
      ],
      "execution_count": 0,
      "outputs": [
        {
          "output_type": "execute_result",
          "data": {
            "text/plain": [
              "(423, 7)"
            ]
          },
          "metadata": {
            "tags": []
          },
          "execution_count": 5
        }
      ]
    },
    {
      "cell_type": "code",
      "metadata": {
        "id": "W5ez2EONqyiX",
        "colab_type": "code",
        "outputId": "0c737a06-c384-4831-993c-a44f1916bbf2",
        "colab": {
          "base_uri": "https://localhost:8080/",
          "height": 204
        }
      },
      "source": [
        "df_full.head()"
      ],
      "execution_count": 0,
      "outputs": [
        {
          "output_type": "execute_result",
          "data": {
            "text/html": [
              "<div>\n",
              "<style scoped>\n",
              "    .dataframe tbody tr th:only-of-type {\n",
              "        vertical-align: middle;\n",
              "    }\n",
              "\n",
              "    .dataframe tbody tr th {\n",
              "        vertical-align: top;\n",
              "    }\n",
              "\n",
              "    .dataframe thead th {\n",
              "        text-align: right;\n",
              "    }\n",
              "</style>\n",
              "<table border=\"1\" class=\"dataframe\">\n",
              "  <thead>\n",
              "    <tr style=\"text-align: right;\">\n",
              "      <th></th>\n",
              "      <th>Date</th>\n",
              "      <th>Open</th>\n",
              "      <th>High</th>\n",
              "      <th>Low</th>\n",
              "      <th>Close</th>\n",
              "      <th>Adj Close</th>\n",
              "      <th>Volume</th>\n",
              "    </tr>\n",
              "  </thead>\n",
              "  <tbody>\n",
              "    <tr>\n",
              "      <th>0</th>\n",
              "      <td>2018-01-02</td>\n",
              "      <td>1172.000000</td>\n",
              "      <td>1190.000000</td>\n",
              "      <td>1170.510010</td>\n",
              "      <td>1189.010010</td>\n",
              "      <td>1189.010010</td>\n",
              "      <td>2694500</td>\n",
              "    </tr>\n",
              "    <tr>\n",
              "      <th>1</th>\n",
              "      <td>2018-01-03</td>\n",
              "      <td>1188.300049</td>\n",
              "      <td>1205.489990</td>\n",
              "      <td>1188.300049</td>\n",
              "      <td>1204.199951</td>\n",
              "      <td>1204.199951</td>\n",
              "      <td>3108800</td>\n",
              "    </tr>\n",
              "    <tr>\n",
              "      <th>2</th>\n",
              "      <td>2018-01-04</td>\n",
              "      <td>1205.000000</td>\n",
              "      <td>1215.869995</td>\n",
              "      <td>1204.660034</td>\n",
              "      <td>1209.589966</td>\n",
              "      <td>1209.589966</td>\n",
              "      <td>3022100</td>\n",
              "    </tr>\n",
              "    <tr>\n",
              "      <th>3</th>\n",
              "      <td>2018-01-05</td>\n",
              "      <td>1217.510010</td>\n",
              "      <td>1229.140015</td>\n",
              "      <td>1210.000000</td>\n",
              "      <td>1229.140015</td>\n",
              "      <td>1229.140015</td>\n",
              "      <td>3544700</td>\n",
              "    </tr>\n",
              "    <tr>\n",
              "      <th>4</th>\n",
              "      <td>2018-01-08</td>\n",
              "      <td>1236.000000</td>\n",
              "      <td>1253.079956</td>\n",
              "      <td>1232.030029</td>\n",
              "      <td>1246.869995</td>\n",
              "      <td>1246.869995</td>\n",
              "      <td>4279500</td>\n",
              "    </tr>\n",
              "  </tbody>\n",
              "</table>\n",
              "</div>"
            ],
            "text/plain": [
              "        Date         Open         High  ...        Close    Adj Close   Volume\n",
              "0 2018-01-02  1172.000000  1190.000000  ...  1189.010010  1189.010010  2694500\n",
              "1 2018-01-03  1188.300049  1205.489990  ...  1204.199951  1204.199951  3108800\n",
              "2 2018-01-04  1205.000000  1215.869995  ...  1209.589966  1209.589966  3022100\n",
              "3 2018-01-05  1217.510010  1229.140015  ...  1229.140015  1229.140015  3544700\n",
              "4 2018-01-08  1236.000000  1253.079956  ...  1246.869995  1246.869995  4279500\n",
              "\n",
              "[5 rows x 7 columns]"
            ]
          },
          "metadata": {
            "tags": []
          },
          "execution_count": 6
        }
      ]
    },
    {
      "cell_type": "code",
      "metadata": {
        "id": "F5lbd7N8q0XQ",
        "colab_type": "code",
        "outputId": "18320baf-ea18-402e-e7f0-bdb9bea68f5a",
        "colab": {
          "base_uri": "https://localhost:8080/",
          "height": 297
        }
      },
      "source": [
        "df_full.describe()"
      ],
      "execution_count": 0,
      "outputs": [
        {
          "output_type": "execute_result",
          "data": {
            "text/html": [
              "<div>\n",
              "<style scoped>\n",
              "    .dataframe tbody tr th:only-of-type {\n",
              "        vertical-align: middle;\n",
              "    }\n",
              "\n",
              "    .dataframe tbody tr th {\n",
              "        vertical-align: top;\n",
              "    }\n",
              "\n",
              "    .dataframe thead th {\n",
              "        text-align: right;\n",
              "    }\n",
              "</style>\n",
              "<table border=\"1\" class=\"dataframe\">\n",
              "  <thead>\n",
              "    <tr style=\"text-align: right;\">\n",
              "      <th></th>\n",
              "      <th>Open</th>\n",
              "      <th>High</th>\n",
              "      <th>Low</th>\n",
              "      <th>Close</th>\n",
              "      <th>Adj Close</th>\n",
              "      <th>Volume</th>\n",
              "    </tr>\n",
              "  </thead>\n",
              "  <tbody>\n",
              "    <tr>\n",
              "      <th>count</th>\n",
              "      <td>423.000000</td>\n",
              "      <td>423.000000</td>\n",
              "      <td>423.000000</td>\n",
              "      <td>423.000000</td>\n",
              "      <td>423.000000</td>\n",
              "      <td>4.230000e+02</td>\n",
              "    </tr>\n",
              "    <tr>\n",
              "      <th>mean</th>\n",
              "      <td>1705.390588</td>\n",
              "      <td>1722.652885</td>\n",
              "      <td>1684.253713</td>\n",
              "      <td>1704.351017</td>\n",
              "      <td>1704.351017</td>\n",
              "      <td>5.088616e+06</td>\n",
              "    </tr>\n",
              "    <tr>\n",
              "      <th>std</th>\n",
              "      <td>187.169373</td>\n",
              "      <td>184.544913</td>\n",
              "      <td>188.640463</td>\n",
              "      <td>186.002164</td>\n",
              "      <td>186.002164</td>\n",
              "      <td>2.323576e+06</td>\n",
              "    </tr>\n",
              "    <tr>\n",
              "      <th>min</th>\n",
              "      <td>1172.000000</td>\n",
              "      <td>1190.000000</td>\n",
              "      <td>1170.510010</td>\n",
              "      <td>1189.010010</td>\n",
              "      <td>1189.010010</td>\n",
              "      <td>1.690300e+06</td>\n",
              "    </tr>\n",
              "    <tr>\n",
              "      <th>25%</th>\n",
              "      <td>1584.224976</td>\n",
              "      <td>1595.215027</td>\n",
              "      <td>1567.075012</td>\n",
              "      <td>1582.289978</td>\n",
              "      <td>1582.289978</td>\n",
              "      <td>3.410900e+06</td>\n",
              "    </tr>\n",
              "    <tr>\n",
              "      <th>50%</th>\n",
              "      <td>1706.260010</td>\n",
              "      <td>1724.800049</td>\n",
              "      <td>1691.520020</td>\n",
              "      <td>1710.630005</td>\n",
              "      <td>1710.630005</td>\n",
              "      <td>4.529700e+06</td>\n",
              "    </tr>\n",
              "    <tr>\n",
              "      <th>75%</th>\n",
              "      <td>1851.565002</td>\n",
              "      <td>1868.750000</td>\n",
              "      <td>1833.660034</td>\n",
              "      <td>1856.419983</td>\n",
              "      <td>1856.419983</td>\n",
              "      <td>6.082600e+06</td>\n",
              "    </tr>\n",
              "    <tr>\n",
              "      <th>max</th>\n",
              "      <td>2038.109985</td>\n",
              "      <td>2050.500000</td>\n",
              "      <td>2013.000000</td>\n",
              "      <td>2039.510010</td>\n",
              "      <td>2039.510010</td>\n",
              "      <td>1.496380e+07</td>\n",
              "    </tr>\n",
              "  </tbody>\n",
              "</table>\n",
              "</div>"
            ],
            "text/plain": [
              "              Open         High  ...    Adj Close        Volume\n",
              "count   423.000000   423.000000  ...   423.000000  4.230000e+02\n",
              "mean   1705.390588  1722.652885  ...  1704.351017  5.088616e+06\n",
              "std     187.169373   184.544913  ...   186.002164  2.323576e+06\n",
              "min    1172.000000  1190.000000  ...  1189.010010  1.690300e+06\n",
              "25%    1584.224976  1595.215027  ...  1582.289978  3.410900e+06\n",
              "50%    1706.260010  1724.800049  ...  1710.630005  4.529700e+06\n",
              "75%    1851.565002  1868.750000  ...  1856.419983  6.082600e+06\n",
              "max    2038.109985  2050.500000  ...  2039.510010  1.496380e+07\n",
              "\n",
              "[8 rows x 6 columns]"
            ]
          },
          "metadata": {
            "tags": []
          },
          "execution_count": 7
        }
      ]
    },
    {
      "cell_type": "code",
      "metadata": {
        "id": "wxSd-Qyuq2SY",
        "colab_type": "code",
        "outputId": "a9223ac4-f37d-4d1c-89bf-78b8290463e6",
        "colab": {
          "base_uri": "https://localhost:8080/",
          "height": 286
        }
      },
      "source": [
        "df_full[\"Adj Close\"].plot()"
      ],
      "execution_count": 0,
      "outputs": [
        {
          "output_type": "execute_result",
          "data": {
            "text/plain": [
              "<matplotlib.axes._subplots.AxesSubplot at 0x7f5d0cbd16a0>"
            ]
          },
          "metadata": {
            "tags": []
          },
          "execution_count": 8
        },
        {
          "output_type": "display_data",
          "data": {
            "image/png": "[encoded data removed]",
            "text/plain": [
              "<Figure size 432x288 with 1 Axes>"
            ]
          },
          "metadata": {
            "tags": []
          }
        }
      ]
    },
    {
      "cell_type": "code",
      "metadata": {
        "id": "NLmdSxERq4mW",
        "colab_type": "code",
        "colab": {}
      },
      "source": [
        "df_full.set_index(\"Date\", inplace=True)"
      ],
      "execution_count": 0,
      "outputs": []
    },
    {
      "cell_type": "code",
      "metadata": {
        "id": "dQhNSGgvq7df",
        "colab_type": "code",
        "colab": {}
      },
      "source": [
        "window_size=32\n",
        "num_samples=len(df_full)-window_size\n",
        "\n",
        "indices=np.arange(num_samples).astype(np.int)[:,None]+np.arange(window_size+1).astype(np.int)\n",
        "data = df_full['Adj Close'].values[indices]\n",
        "x = data[:,:-1]\n",
        "y = data[:,-1]"
      ],
      "execution_count": 0,
      "outputs": []
    },
    {
      "cell_type": "code",
      "metadata": {
        "id": "lcPVZvy6rOKP",
        "colab_type": "code",
        "colab": {}
      },
      "source": [
        "split_fraction=0.8\n",
        "ind_split=int(split_fraction*num_samples)"
      ],
      "execution_count": 0,
      "outputs": []
    },
    {
      "cell_type": "code",
      "metadata": {
        "id": "Uvux0fPLrQMu",
        "colab_type": "code",
        "colab": {}
      },
      "source": [
        "x_train=x[:ind_split]\n",
        "y_train=y[:ind_split]\n",
        "x_test=x[ind_split:]\n",
        "y_test=y[ind_split:]"
      ],
      "execution_count": 0,
      "outputs": []
    },
    {
      "cell_type": "code",
      "metadata": {
        "id": "UGeSZPBurSPB",
        "colab_type": "code",
        "outputId": "08918406-43d5-4072-ffe4-b0064982617c",
        "colab": {
          "base_uri": "https://localhost:8080/",
          "height": 34
        }
      },
      "source": [
        "y_test.shape"
      ],
      "execution_count": 0,
      "outputs": [
        {
          "output_type": "execute_result",
          "data": {
            "text/plain": [
              "(79,)"
            ]
          },
          "metadata": {
            "tags": []
          },
          "execution_count": 13
        }
      ]
    },
    {
      "cell_type": "code",
      "metadata": {
        "id": "neAhgGN_ra0c",
        "colab_type": "code",
        "colab": {}
      },
      "source": [
        "def get_performance (model_pred):\n",
        "    print('Mean Absolute Error:', metrics.mean_absolute_error(y_test, model_pred).round(4))\n",
        "    print('Mean Squared Error:', metrics.mean_squared_error(y_test, model_pred).round(4))\n",
        "    print('Root Mean Squared Error:', np.sqrt(metrics.mean_squared_error(y_test, model_pred)).round(4))\n",
        "\n",
        "def get_plot (model_pred):\n",
        "    plt.scatter(model_pred, y_test, color=\"gray\")\n",
        "    plt.plot(y_test, y_test, color='red', linewidth=2)"
      ],
      "execution_count": 0,
      "outputs": []
    },
    {
      "cell_type": "code",
      "metadata": {
        "id": "HT788wMnrc7v",
        "colab_type": "code",
        "colab": {}
      },
      "source": [
        "y_pred_lag=np.roll(y_test, 1)"
      ],
      "execution_count": 0,
      "outputs": []
    },
    {
      "cell_type": "code",
      "metadata": {
        "id": "OKSfNPvjrfjt",
        "colab_type": "code",
        "outputId": "ab0c5256-7155-482f-f8b7-b94e2fa5f142",
        "colab": {
          "base_uri": "https://localhost:8080/",
          "height": 1000
        }
      },
      "source": [
        "np.roll(y,1)"
      ],
      "execution_count": 0,
      "outputs": [
        {
          "output_type": "execute_result",
          "data": {
            "text/plain": [
              "array([1833.51001 , 1448.689941, 1468.349976, 1482.920044, 1485.339966,\n",
              "       1500.      , 1521.949951, 1511.97998 , 1512.449951, 1493.449951,\n",
              "       1500.25    , 1523.609985, 1537.640015, 1545.      , 1551.859985,\n",
              "       1578.890015, 1598.390015, 1588.180054, 1591.      , 1582.319946,\n",
              "       1571.680054, 1544.930054, 1586.51001 , 1581.859985, 1544.920044,\n",
              "       1495.560059, 1555.859985, 1497.050049, 1431.420044, 1447.339966,\n",
              "       1371.98999 , 1392.050049, 1410.569946, 1451.75    , 1405.22998 ,\n",
              "       1406.079956, 1436.219971, 1427.050049, 1448.5     , 1430.790039,\n",
              "       1441.5     , 1503.829956, 1527.839966, 1556.910034, 1527.48999 ,\n",
              "       1517.859985, 1460.089966, 1460.170044, 1517.959961, 1572.619995,\n",
              "       1566.130005, 1582.26001 , 1569.680054, 1572.079956, 1580.949951,\n",
              "       1600.140015, 1592.390015, 1608.      , 1609.079956, 1602.910034,\n",
              "       1601.540039, 1576.119995, 1587.280029, 1581.76001 , 1574.369995,\n",
              "       1585.459961, 1581.400024, 1601.859985, 1603.069946, 1610.150024,\n",
              "       1612.869995, 1624.890015, 1629.619995, 1641.540039, 1665.27002 ,\n",
              "       1696.349976, 1695.75    , 1689.300049, 1683.98999 , 1689.119995,\n",
              "       1698.75    , 1704.859985, 1723.859985, 1715.969971, 1723.790039,\n",
              "       1734.780029, 1750.079956, 1730.219971, 1715.670044, 1663.150024,\n",
              "       1691.089966, 1660.51001 , 1701.449951, 1699.800049, 1713.780029,\n",
              "       1693.959961, 1699.72998 , 1710.630005, 1739.02002 , 1743.069946,\n",
              "       1755.      , 1796.619995, 1813.030029, 1822.48999 , 1843.930054,\n",
              "       1842.920044, 1812.969971, 1813.699951, 1802.      , 1829.23999 ,\n",
              "       1863.609985, 1808.      , 1817.27002 , 1779.219971, 1777.439941,\n",
              "       1797.170044, 1834.329956, 1823.290039, 1847.75    , 1862.47998 ,\n",
              "       1886.52002 , 1898.52002 , 1886.300049, 1896.199951, 1919.650024,\n",
              "       1882.619995, 1886.52002 , 1882.219971, 1876.709961, 1883.420044,\n",
              "       1904.900024, 1902.900024, 1905.390015, 1927.680054, 1932.819946,\n",
              "       1998.099976, 2002.380005, 2012.709961, 2039.51001 , 1994.819946,\n",
              "       1958.310059, 1952.069946, 1939.01001 , 1987.150024, 1990.      ,\n",
              "       1989.869995, 1970.189941, 1908.030029, 1941.050049, 1926.420044,\n",
              "       1944.300049, 1915.01001 , 1934.359985, 1974.550049, 1974.849976,\n",
              "       2012.97998 , 2003.      , 2004.359985, 1971.310059, 1952.76001 ,\n",
              "       1909.420044, 1889.650024, 1864.420044, 1870.319946, 1755.25    ,\n",
              "       1719.359985, 1788.609985, 1760.949951, 1819.959961, 1831.72998 ,\n",
              "       1770.719971, 1764.030029, 1789.300049, 1768.699951, 1664.199951,\n",
              "       1782.170044, 1642.810059, 1538.880005, 1530.420044, 1598.01001 ,\n",
              "       1665.530029, 1665.530029, 1627.800049, 1642.810059, 1755.48999 ,\n",
              "       1754.910034, 1712.430054, 1636.849976, 1631.170044, 1599.01001 ,\n",
              "       1619.439941, 1593.410034, 1512.290039, 1495.459961, 1516.72998 ,\n",
              "       1502.060059, 1581.329956, 1581.420044, 1677.75    , 1673.569946,\n",
              "       1690.170044, 1772.359985, 1668.400024, 1699.189941, 1629.130005,\n",
              "       1641.030029, 1643.23999 , 1663.540039, 1658.380005, 1591.910034,\n",
              "       1520.910034, 1551.47998 , 1495.079956, 1460.829956, 1377.449951,\n",
              "       1343.959961, 1470.900024, 1461.640015, 1478.02002 , 1501.969971,\n",
              "       1539.130005, 1500.280029, 1575.390015, 1629.51001 , 1656.579956,\n",
              "       1659.420044, 1656.219971, 1640.560059, 1617.209961, 1674.560059,\n",
              "       1683.780029, 1693.219971, 1696.199951, 1632.170044, 1640.02002 ,\n",
              "       1654.930054, 1670.569946, 1637.890015, 1593.880005, 1670.430054,\n",
              "       1718.72998 , 1626.22998 , 1633.310059, 1658.810059, 1640.26001 ,\n",
              "       1614.369995, 1588.219971, 1591.      , 1638.01001 , 1640.      ,\n",
              "       1622.650024, 1607.949951, 1627.579956, 1622.099976, 1619.439941,\n",
              "       1631.560059, 1633.      , 1636.400024, 1641.089966, 1639.829956,\n",
              "       1671.72998 , 1696.170044, 1692.430054, 1668.949951, 1625.949951,\n",
              "       1620.800049, 1670.619995, 1673.099976, 1690.810059, 1686.219971,\n",
              "       1712.359985, 1742.150024, 1761.849976, 1797.27002 , 1819.26001 ,\n",
              "       1764.77002 , 1774.26001 , 1783.76001 , 1765.699951, 1773.420044,\n",
              "       1780.75    , 1814.189941, 1813.97998 , 1820.699951, 1818.859985,\n",
              "       1837.280029, 1849.859985, 1835.839966, 1847.329956, 1844.069946,\n",
              "       1843.060059, 1844.869995, 1863.040039, 1864.819946, 1861.689941,\n",
              "       1887.310059, 1923.77002 , 1901.75    , 1902.25    , 1950.630005,\n",
              "       1938.430054, 1926.52002 , 1911.52002 , 1900.819946, 1962.459961,\n",
              "       1950.550049, 1921.      , 1917.77002 , 1899.869995, 1889.97998 ,\n",
              "       1822.680054, 1840.119995, 1871.150024, 1907.569946, 1869.      ,\n",
              "       1858.969971, 1857.52002 , 1859.680054, 1815.47998 , 1823.280029,\n",
              "       1836.430054, 1819.189941, 1816.319946, 1775.069946, 1692.689941,\n",
              "       1729.560059, 1738.5     , 1754.359985, 1804.030029, 1860.630005,\n",
              "       1863.699951, 1855.319946, 1870.300049, 1869.670044, 1886.030029,\n",
              "       1901.369995, 1908.790039, 1918.189941, 1911.300049, 1913.900024,\n",
              "       1878.27002 , 1897.829956, 1904.280029, 1893.630005, 1922.189941,\n",
              "       1934.310059, 1939.      , 1942.910034, 1952.319946, 1988.300049,\n",
              "       2017.410034, 2001.069946, 2011.      , 2020.98999 , 2009.900024,\n",
              "       1992.030029, 1977.900024, 1964.52002 , 1985.630005, 1994.48999 ,\n",
              "       2000.810059, 1973.819946, 1943.050049, 1912.449951, 1898.530029,\n",
              "       1866.780029, 1855.319946, 1823.23999 , 1765.130005, 1787.829956,\n",
              "       1793.400024, 1832.890015, 1807.579956, 1784.920044, 1824.339966,\n",
              "       1762.959961, 1776.119995, 1792.569946, 1816.119995, 1801.380005,\n",
              "       1823.540039, 1804.660034, 1749.619995, 1768.869995, 1761.829956,\n",
              "       1764.25    , 1786.400024, 1776.290039, 1789.839966, 1800.619995,\n",
              "       1840.719971])"
            ]
          },
          "metadata": {
            "tags": []
          },
          "execution_count": 17
        }
      ]
    },
    {
      "cell_type": "code",
      "metadata": {
        "id": "zD8UU8Parhpn",
        "colab_type": "code",
        "outputId": "0ad09f88-c0b4-428e-ba61-6957762194fe",
        "colab": {
          "base_uri": "https://localhost:8080/",
          "height": 68
        }
      },
      "source": [
        "get_performance(y_pred_lag)"
      ],
      "execution_count": 0,
      "outputs": [
        {
          "output_type": "stream",
          "text": [
            "Mean Absolute Error: 21.0387\n",
            "Mean Squared Error: 738.2087\n",
            "Root Mean Squared Error: 27.17\n"
          ],
          "name": "stdout"
        }
      ]
    },
    {
      "cell_type": "code",
      "metadata": {
        "id": "MASWDE6urkr1",
        "colab_type": "code",
        "outputId": "f9718a8a-3b37-49ad-aca6-271b1e317d52",
        "colab": {
          "base_uri": "https://localhost:8080/",
          "height": 269
        }
      },
      "source": [
        "get_plot(y_pred_lag)"
      ],
      "execution_count": 0,
      "outputs": [
        {
          "output_type": "display_data",
          "data": {
            "image/png": "[encoded data removed]",
            "text/plain": [
              "<Figure size 432x288 with 1 Axes>"
            ]
          },
          "metadata": {
            "tags": []
          }
        }
      ]
    },
    {
      "cell_type": "code",
      "metadata": {
        "id": "JF6i1ORCrmsb",
        "colab_type": "code",
        "outputId": "72457c02-b5c1-4a27-8f54-889ec6bb9927",
        "colab": {
          "base_uri": "https://localhost:8080/",
          "height": 54
        }
      },
      "source": [
        "#Linear_Regression_Model\n",
        "model_lr=LinearRegression()\n",
        "model_lr.fit(x_train, y_train)"
      ],
      "execution_count": 0,
      "outputs": [
        {
          "output_type": "execute_result",
          "data": {
            "text/plain": [
              "LinearRegression(copy_X=True, fit_intercept=True, n_jobs=None, normalize=False)"
            ]
          },
          "metadata": {
            "tags": []
          },
          "execution_count": 20
        }
      ]
    },
    {
      "cell_type": "code",
      "metadata": {
        "id": "yPjnQHmUrzYL",
        "colab_type": "code",
        "colab": {}
      },
      "source": [
        "?model_lr.fit()"
      ],
      "execution_count": 0,
      "outputs": []
    },
    {
      "cell_type": "code",
      "metadata": {
        "id": "G83bC2qSr1Wl",
        "colab_type": "code",
        "colab": {}
      },
      "source": [
        "y_pred_lr=model_lr.predict(x_test)"
      ],
      "execution_count": 0,
      "outputs": []
    },
    {
      "cell_type": "code",
      "metadata": {
        "id": "QaK09v7tr3Ym",
        "colab_type": "code",
        "outputId": "ac1d5100-7788-4287-b58c-715377680f3b",
        "colab": {
          "base_uri": "https://localhost:8080/",
          "height": 68
        }
      },
      "source": [
        "get_performance(y_pred_lr)"
      ],
      "execution_count": 0,
      "outputs": [
        {
          "output_type": "stream",
          "text": [
            "Mean Absolute Error: 23.3562\n",
            "Mean Squared Error: 885.6029\n",
            "Root Mean Squared Error: 29.7591\n"
          ],
          "name": "stdout"
        }
      ]
    },
    {
      "cell_type": "code",
      "metadata": {
        "id": "q7pD36-_r4_Q",
        "colab_type": "code",
        "outputId": "b9c41fb7-11c9-42b4-b343-49e49a6be7d0",
        "colab": {
          "base_uri": "https://localhost:8080/",
          "height": 269
        }
      },
      "source": [
        "get_plot(y_pred_lr)"
      ],
      "execution_count": 0,
      "outputs": [
        {
          "output_type": "display_data",
          "data": {
            "image/png": "[encoded data removed]",
            "text/plain": [
              "<Figure size 432x288 with 1 Axes>"
            ]
          },
          "metadata": {
            "tags": []
          }
        }
      ]
    },
    {
      "cell_type": "code",
      "metadata": {
        "id": "kPk4Cj49r7TO",
        "colab_type": "code",
        "colab": {}
      },
      "source": [
        "#Ridge_Regression_Model\n",
        "model_ridge = Ridge()\n",
        "model_ridge.fit(x_train, y_train)\n",
        "\n",
        "y_pred_ridge=model_ridge.predict(x_test)"
      ],
      "execution_count": 0,
      "outputs": []
    },
    {
      "cell_type": "code",
      "metadata": {
        "id": "hO4ZTbuYsCGZ",
        "colab_type": "code",
        "outputId": "cee3ffd7-5567-4b33-a041-f99a2b1c213f",
        "colab": {
          "base_uri": "https://localhost:8080/",
          "height": 68
        }
      },
      "source": [
        "get_performance(y_pred_ridge)"
      ],
      "execution_count": 0,
      "outputs": [
        {
          "output_type": "stream",
          "text": [
            "Mean Absolute Error: 23.3562\n",
            "Mean Squared Error: 885.6018\n",
            "Root Mean Squared Error: 29.7591\n"
          ],
          "name": "stdout"
        }
      ]
    },
    {
      "cell_type": "code",
      "metadata": {
        "id": "EI5IffumsD81",
        "colab_type": "code",
        "outputId": "7e97cdea-e555-4408-cef1-3ff81b365f99",
        "colab": {
          "base_uri": "https://localhost:8080/",
          "height": 269
        }
      },
      "source": [
        "get_plot(y_pred_ridge)"
      ],
      "execution_count": 0,
      "outputs": [
        {
          "output_type": "display_data",
          "data": {
            "image/png": "[encoded data removed]",
            "text/plain": [
              "<Figure size 432x288 with 1 Axes>"
            ]
          },
          "metadata": {
            "tags": []
          }
        }
      ]
    },
    {
      "cell_type": "code",
      "metadata": {
        "id": "QU5JKhcrsGOK",
        "colab_type": "code",
        "outputId": "abf36ff0-9d42-440b-be5b-1fff97c365ac",
        "colab": {
          "base_uri": "https://localhost:8080/",
          "height": 136
        }
      },
      "source": [
        "model_ridge.coef_"
      ],
      "execution_count": 0,
      "outputs": [
        {
          "output_type": "execute_result",
          "data": {
            "text/plain": [
              "array([-0.01869006,  0.10340057, -0.03843936, -0.09896329,  0.04371755,\n",
              "       -0.11503211,  0.1012635 ,  0.07097704, -0.15411282,  0.15655514,\n",
              "        0.02989199, -0.04255057, -0.06016979, -0.08164919,  0.01353278,\n",
              "        0.08573665, -0.05568437,  0.15863346, -0.1619152 ,  0.03547912,\n",
              "        0.08092443, -0.00898912, -0.03785086,  0.14748071, -0.16210539,\n",
              "        0.03326227, -0.10078207,  0.04473501,  0.02134703,  0.05578948,\n",
              "       -0.01242382,  0.94304937])"
            ]
          },
          "metadata": {
            "tags": []
          },
          "execution_count": 28
        }
      ]
    },
    {
      "cell_type": "code",
      "metadata": {
        "id": "DSzod_49sI04",
        "colab_type": "code",
        "colab": {}
      },
      "source": [
        "df_comp=pd.DataFrame({\"lag\":np.absolute(y_test-y_pred_lag), \"lr\":np.absolute(y_test-y_pred_lr), \"ridge\":np.absolute(y_test-y_pred_ridge)})"
      ],
      "execution_count": 0,
      "outputs": []
    },
    {
      "cell_type": "code",
      "metadata": {
        "id": "GPIKYeujsf_R",
        "colab_type": "code",
        "outputId": "3a4a8f23-d57f-4dc2-9972-806b46f833be",
        "colab": {
          "base_uri": "https://localhost:8080/",
          "height": 204
        }
      },
      "source": [
        "df_comp.head()"
      ],
      "execution_count": 0,
      "outputs": [
        {
          "output_type": "execute_result",
          "data": {
            "text/html": [
              "<div>\n",
              "<style scoped>\n",
              "    .dataframe tbody tr th:only-of-type {\n",
              "        vertical-align: middle;\n",
              "    }\n",
              "\n",
              "    .dataframe tbody tr th {\n",
              "        vertical-align: top;\n",
              "    }\n",
              "\n",
              "    .dataframe thead th {\n",
              "        text-align: right;\n",
              "    }\n",
              "</style>\n",
              "<table border=\"1\" class=\"dataframe\">\n",
              "  <thead>\n",
              "    <tr style=\"text-align: right;\">\n",
              "      <th></th>\n",
              "      <th>lag</th>\n",
              "      <th>lr</th>\n",
              "      <th>ridge</th>\n",
              "    </tr>\n",
              "  </thead>\n",
              "  <tbody>\n",
              "    <tr>\n",
              "      <th>0</th>\n",
              "      <td>74.059936</td>\n",
              "      <td>43.384165</td>\n",
              "      <td>43.384271</td>\n",
              "    </tr>\n",
              "    <tr>\n",
              "      <th>1</th>\n",
              "      <td>38.569946</td>\n",
              "      <td>38.368945</td>\n",
              "      <td>38.368756</td>\n",
              "    </tr>\n",
              "    <tr>\n",
              "      <th>2</th>\n",
              "      <td>10.030029</td>\n",
              "      <td>3.596752</td>\n",
              "      <td>3.596523</td>\n",
              "    </tr>\n",
              "    <tr>\n",
              "      <th>3</th>\n",
              "      <td>1.449951</td>\n",
              "      <td>12.080176</td>\n",
              "      <td>12.080063</td>\n",
              "    </tr>\n",
              "    <tr>\n",
              "      <th>4</th>\n",
              "      <td>2.160034</td>\n",
              "      <td>6.433256</td>\n",
              "      <td>6.433300</td>\n",
              "    </tr>\n",
              "  </tbody>\n",
              "</table>\n",
              "</div>"
            ],
            "text/plain": [
              "         lag         lr      ridge\n",
              "0  74.059936  43.384165  43.384271\n",
              "1  38.569946  38.368945  38.368756\n",
              "2  10.030029   3.596752   3.596523\n",
              "3   1.449951  12.080176  12.080063\n",
              "4   2.160034   6.433256   6.433300"
            ]
          },
          "metadata": {
            "tags": []
          },
          "execution_count": 30
        }
      ]
    },
    {
      "cell_type": "code",
      "metadata": {
        "id": "IShkhjdSsixt",
        "colab_type": "code",
        "outputId": "783ac15e-2a39-4806-d03e-fd1ab3d123e5",
        "colab": {
          "base_uri": "https://localhost:8080/",
          "height": 289
        }
      },
      "source": [
        "y_pred_lag"
      ],
      "execution_count": 0,
      "outputs": [
        {
          "output_type": "execute_result",
          "data": {
            "text/plain": [
              "array([1833.51001 , 1907.569946, 1869.      , 1858.969971, 1857.52002 ,\n",
              "       1859.680054, 1815.47998 , 1823.280029, 1836.430054, 1819.189941,\n",
              "       1816.319946, 1775.069946, 1692.689941, 1729.560059, 1738.5     ,\n",
              "       1754.359985, 1804.030029, 1860.630005, 1863.699951, 1855.319946,\n",
              "       1870.300049, 1869.670044, 1886.030029, 1901.369995, 1908.790039,\n",
              "       1918.189941, 1911.300049, 1913.900024, 1878.27002 , 1897.829956,\n",
              "       1904.280029, 1893.630005, 1922.189941, 1934.310059, 1939.      ,\n",
              "       1942.910034, 1952.319946, 1988.300049, 2017.410034, 2001.069946,\n",
              "       2011.      , 2020.98999 , 2009.900024, 1992.030029, 1977.900024,\n",
              "       1964.52002 , 1985.630005, 1994.48999 , 2000.810059, 1973.819946,\n",
              "       1943.050049, 1912.449951, 1898.530029, 1866.780029, 1855.319946,\n",
              "       1823.23999 , 1765.130005, 1787.829956, 1793.400024, 1832.890015,\n",
              "       1807.579956, 1784.920044, 1824.339966, 1762.959961, 1776.119995,\n",
              "       1792.569946, 1816.119995, 1801.380005, 1823.540039, 1804.660034,\n",
              "       1749.619995, 1768.869995, 1761.829956, 1764.25    , 1786.400024,\n",
              "       1776.290039, 1789.839966, 1800.619995, 1840.719971])"
            ]
          },
          "metadata": {
            "tags": []
          },
          "execution_count": 31
        }
      ]
    },
    {
      "cell_type": "code",
      "metadata": {
        "id": "Y2OQowLGslaT",
        "colab_type": "code",
        "outputId": "605e8f98-851b-45ff-fe68-cc0267d60c60",
        "colab": {
          "base_uri": "https://localhost:8080/",
          "height": 417
        }
      },
      "source": [
        "df_comp.plot.bar(figsize=(16, 6))\n",
        "#plt.ylim(0, 10)\n",
        "#plt.xlim(9, 20)"
      ],
      "execution_count": 0,
      "outputs": [
        {
          "output_type": "execute_result",
          "data": {
            "text/plain": [
              "<matplotlib.axes._subplots.AxesSubplot at 0x7f5d0a1d4cc0>"
            ]
          },
          "metadata": {
            "tags": []
          },
          "execution_count": 32
        },
        {
          "output_type": "display_data",
          "data": {
            "image/png": "[encoded data removed]",
            "text/plain": [
              "<Figure size 1152x432 with 1 Axes>"
            ]
          },
          "metadata": {
            "tags": []
          }
        }
      ]
    },
    {
      "cell_type": "code",
      "metadata": {
        "id": "h-_2yz5mspDc",
        "colab_type": "code",
        "outputId": "0647e328-a6f9-4e8e-cfeb-d3df419d93df",
        "colab": {
          "base_uri": "https://localhost:8080/",
          "height": 418
        }
      },
      "source": [
        "df_comp.plot.bar(figsize=(16, 6))\n",
        "plt.ylim(0, 10)\n",
        "plt.xlim(11, 20)"
      ],
      "execution_count": 0,
      "outputs": [
        {
          "output_type": "execute_result",
          "data": {
            "text/plain": [
              "(11, 20)"
            ]
          },
          "metadata": {
            "tags": []
          },
          "execution_count": 33
        },
        {
          "output_type": "display_data",
          "data": {
            "image/png": "[encoded data removed]",
            "text/plain": [
              "<Figure size 1152x432 with 1 Axes>"
            ]
          },
          "metadata": {
            "tags": []
          }
        }
      ]
    },
    {
      "cell_type": "code",
      "metadata": {
        "id": "KsgKj2castP4",
        "colab_type": "code",
        "colab": {}
      },
      "source": [
        ""
      ],
      "execution_count": 0,
      "outputs": []
    }
  ]
}